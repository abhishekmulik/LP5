{
  "cells": [
    {
      "cell_type": "markdown",
      "metadata": {
        "id": "view-in-github",
        "colab_type": "text"
      },
      "source": [
        "<a href=\"https://colab.research.google.com/github/abhishekmulik/LP5/blob/main/DL_2_(1).ipynb\" target=\"_parent\"><img src=\"https://colab.research.google.com/assets/colab-badge.svg\" alt=\"Open In Colab\"/></a>"
      ]
    },
    {
      "cell_type": "code",
      "execution_count": 1,
      "metadata": {
        "id": "hEGvv3VgoDX3"
      },
      "outputs": [],
      "source": [
        "#Classification using Deep neural network:Binary classification using Deep Neural Networks Example: Classify movie reviews into positive\" reviews and \"negative\" reviews, just based on the text content of the reviews.Use IMDB dataset"
      ]
    },
    {
      "cell_type": "code",
      "execution_count": 2,
      "metadata": {
        "id": "yQt4vA_5oDX4"
      },
      "outputs": [],
      "source": [
        "# Importing required libaries\n",
        "import tensorflow as tf\n",
        "from tensorflow import keras\n",
        "from tensorflow.keras.datasets import imdb\n",
        "from keras.preprocessing.text import Tokenizer"
      ]
    },
    {
      "cell_type": "code",
      "execution_count": 3,
      "metadata": {
        "colab": {
          "base_uri": "https://localhost:8080/"
        },
        "id": "536KQykjoDX5",
        "outputId": "a081a6ad-18e9-4003-d016-08cda2299a19"
      },
      "outputs": [
        {
          "output_type": "stream",
          "name": "stdout",
          "text": [
            "Downloading data from https://storage.googleapis.com/tensorflow/tf-keras-datasets/imdb.npz\n",
            "17464789/17464789 [==============================] - 0s 0us/step\n"
          ]
        }
      ],
      "source": [
        "# Load the IMDB dataset\n",
        "(x_train,y_train),(x_test,y_test) = imdb.load_data(num_words=10000)"
      ]
    },
    {
      "cell_type": "code",
      "execution_count": 4,
      "metadata": {
        "id": "45ckKQAOoDX5"
      },
      "outputs": [],
      "source": [
        "# Preprocess the data\n",
        "maxlen = 256\n",
        "x_train = keras.preprocessing.sequence.pad_sequences(x_train,maxlen = maxlen)\n",
        "x_test =  keras.preprocessing.sequence.pad_sequences(x_test,maxlen = maxlen)"
      ]
    },
    {
      "cell_type": "code",
      "execution_count": 5,
      "metadata": {
        "id": "CyRJ4TBooDX6"
      },
      "outputs": [],
      "source": [
        "# Define the model\n",
        "model = keras.models.Sequential([\n",
        "    keras.layers.Embedding(10000,16,input_length = maxlen),\n",
        "    keras.layers.GlobalAveragePooling1D(),\n",
        "    keras.layers.Dense(16,activation='relu'),\n",
        "    keras.layers.Dense(1,activation='sigmoid')\n",
        "])"
      ]
    },
    {
      "cell_type": "code",
      "execution_count": 6,
      "metadata": {
        "id": "8VDIprTtoDX6"
      },
      "outputs": [],
      "source": [
        "# Compile the model\n",
        "model.compile(loss = 'binary_crossentropy',optimizer='adam',metrics=['accuracy'])"
      ]
    },
    {
      "cell_type": "code",
      "execution_count": 7,
      "metadata": {
        "colab": {
          "base_uri": "https://localhost:8080/"
        },
        "id": "8CsAeJG7oDX7",
        "outputId": "26781fc6-ca44-4a6a-e750-c4b2801d356b"
      },
      "outputs": [
        {
          "output_type": "stream",
          "name": "stdout",
          "text": [
            "Epoch 1/30\n",
            "782/782 [==============================] - 11s 10ms/step - loss: 0.5140 - accuracy: 0.7811 - val_loss: 0.3364 - val_accuracy: 0.8672\n",
            "Epoch 2/30\n",
            "782/782 [==============================] - 8s 11ms/step - loss: 0.2696 - accuracy: 0.8952 - val_loss: 0.2847 - val_accuracy: 0.8841\n",
            "Epoch 3/30\n",
            "782/782 [==============================] - 6s 7ms/step - loss: 0.2124 - accuracy: 0.9203 - val_loss: 0.2800 - val_accuracy: 0.8840\n",
            "Epoch 4/30\n",
            "782/782 [==============================] - 7s 9ms/step - loss: 0.1791 - accuracy: 0.9356 - val_loss: 0.2858 - val_accuracy: 0.8843\n",
            "Epoch 5/30\n",
            "782/782 [==============================] - 6s 7ms/step - loss: 0.1556 - accuracy: 0.9444 - val_loss: 0.3015 - val_accuracy: 0.8804\n",
            "Epoch 6/30\n",
            "782/782 [==============================] - 7s 10ms/step - loss: 0.1365 - accuracy: 0.9529 - val_loss: 0.3224 - val_accuracy: 0.8766\n",
            "Epoch 7/30\n",
            "782/782 [==============================] - 6s 8ms/step - loss: 0.1212 - accuracy: 0.9590 - val_loss: 0.3506 - val_accuracy: 0.8701\n",
            "Epoch 8/30\n",
            "782/782 [==============================] - 7s 10ms/step - loss: 0.1065 - accuracy: 0.9657 - val_loss: 0.3733 - val_accuracy: 0.8684\n",
            "Epoch 9/30\n",
            "782/782 [==============================] - 6s 8ms/step - loss: 0.0951 - accuracy: 0.9695 - val_loss: 0.3979 - val_accuracy: 0.8660\n",
            "Epoch 10/30\n",
            "782/782 [==============================] - 8s 10ms/step - loss: 0.0846 - accuracy: 0.9742 - val_loss: 0.4319 - val_accuracy: 0.8607\n",
            "Epoch 11/30\n",
            "782/782 [==============================] - 7s 9ms/step - loss: 0.0751 - accuracy: 0.9786 - val_loss: 0.4621 - val_accuracy: 0.8594\n",
            "Epoch 12/30\n",
            "782/782 [==============================] - 5s 7ms/step - loss: 0.0664 - accuracy: 0.9815 - val_loss: 0.5117 - val_accuracy: 0.8518\n",
            "Epoch 13/30\n",
            "782/782 [==============================] - 8s 10ms/step - loss: 0.0594 - accuracy: 0.9840 - val_loss: 0.5379 - val_accuracy: 0.8501\n",
            "Epoch 14/30\n",
            "782/782 [==============================] - 8s 10ms/step - loss: 0.0527 - accuracy: 0.9863 - val_loss: 0.5671 - val_accuracy: 0.8510\n",
            "Epoch 15/30\n",
            "782/782 [==============================] - 9s 12ms/step - loss: 0.0458 - accuracy: 0.9892 - val_loss: 0.6299 - val_accuracy: 0.8434\n",
            "Epoch 16/30\n",
            "782/782 [==============================] - 7s 9ms/step - loss: 0.0396 - accuracy: 0.9906 - val_loss: 0.6609 - val_accuracy: 0.8432\n",
            "Epoch 17/30\n",
            "782/782 [==============================] - 6s 7ms/step - loss: 0.0358 - accuracy: 0.9910 - val_loss: 0.6943 - val_accuracy: 0.8447\n",
            "Epoch 18/30\n",
            "782/782 [==============================] - 7s 9ms/step - loss: 0.0298 - accuracy: 0.9932 - val_loss: 0.7602 - val_accuracy: 0.8402\n",
            "Epoch 19/30\n",
            "782/782 [==============================] - 7s 9ms/step - loss: 0.0258 - accuracy: 0.9946 - val_loss: 0.7982 - val_accuracy: 0.8408\n",
            "Epoch 20/30\n",
            "782/782 [==============================] - 7s 9ms/step - loss: 0.0218 - accuracy: 0.9959 - val_loss: 0.8469 - val_accuracy: 0.8404\n",
            "Epoch 21/30\n",
            "782/782 [==============================] - 8s 10ms/step - loss: 0.0185 - accuracy: 0.9967 - val_loss: 0.9016 - val_accuracy: 0.8387\n",
            "Epoch 22/30\n",
            "782/782 [==============================] - 8s 10ms/step - loss: 0.0158 - accuracy: 0.9973 - val_loss: 0.9531 - val_accuracy: 0.8370\n",
            "Epoch 23/30\n",
            "782/782 [==============================] - 7s 9ms/step - loss: 0.0143 - accuracy: 0.9970 - val_loss: 1.0234 - val_accuracy: 0.8361\n",
            "Epoch 24/30\n",
            "782/782 [==============================] - 9s 11ms/step - loss: 0.0114 - accuracy: 0.9979 - val_loss: 1.0779 - val_accuracy: 0.8354\n",
            "Epoch 25/30\n",
            "782/782 [==============================] - 8s 10ms/step - loss: 0.0096 - accuracy: 0.9983 - val_loss: 1.1266 - val_accuracy: 0.8352\n",
            "Epoch 26/30\n",
            "782/782 [==============================] - 6s 8ms/step - loss: 0.0088 - accuracy: 0.9983 - val_loss: 1.2429 - val_accuracy: 0.8333\n",
            "Epoch 27/30\n",
            "782/782 [==============================] - 8s 11ms/step - loss: 0.0077 - accuracy: 0.9985 - val_loss: 1.2646 - val_accuracy: 0.8333\n",
            "Epoch 28/30\n",
            "782/782 [==============================] - 7s 9ms/step - loss: 0.0061 - accuracy: 0.9987 - val_loss: 1.3387 - val_accuracy: 0.8334\n",
            "Epoch 29/30\n",
            "782/782 [==============================] - 9s 11ms/step - loss: 0.0042 - accuracy: 0.9996 - val_loss: 1.3904 - val_accuracy: 0.8337\n",
            "Epoch 30/30\n",
            "782/782 [==============================] - 8s 11ms/step - loss: 0.0055 - accuracy: 0.9986 - val_loss: 1.4653 - val_accuracy: 0.8303\n"
          ]
        }
      ],
      "source": [
        "# Train the model\n",
        "history = model.fit(x_train,y_train,epochs = 30,batch_size = 32,validation_data = (x_test,y_test),verbose=1)"
      ]
    },
    {
      "cell_type": "code",
      "execution_count": 8,
      "metadata": {
        "colab": {
          "base_uri": "https://localhost:8080/"
        },
        "id": "d-d4mOakoDX8",
        "outputId": "e65af369-b83f-4a0d-80a3-5af5475f035d"
      },
      "outputs": [
        {
          "output_type": "stream",
          "name": "stdout",
          "text": [
            "782/782 [==============================] - 3s 4ms/step - loss: 1.4653 - accuracy: 0.8303\n",
            "Test Loss:  1.465319275856018\n",
            "Test Accuracy:  0.8303200006484985\n"
          ]
        }
      ],
      "source": [
        "# Evaluate Model\n",
        "test_loss,test_acc = model.evaluate(x_test,y_test)\n",
        "print('Test Loss: ',test_loss)\n",
        "print('Test Accuracy: ',test_acc)"
      ]
    },
    {
      "cell_type": "code",
      "execution_count": 9,
      "metadata": {
        "id": "iUrLDvDgoDX9"
      },
      "outputs": [],
      "source": [
        "# Define new text data to make predictions on\n",
        "\n",
        "tk = Tokenizer()\n",
        "test_data = ['This movie is really great!','This movie is really bad!']\n",
        "\n",
        "tk.fit_on_texts(test_data)\n",
        "\n",
        "sequences = tk.texts_to_sequences(test_data)\n",
        "\n",
        "tdata =  keras.preprocessing.sequence.pad_sequences(sequences,maxlen=maxlen)\n",
        "\n"
      ]
    },
    {
      "cell_type": "code",
      "execution_count": 10,
      "metadata": {
        "colab": {
          "base_uri": "https://localhost:8080/"
        },
        "id": "HpDa_3NkoDX9",
        "outputId": "60d333df-67b3-4e01-c420-cae2a3c1093a"
      },
      "outputs": [
        {
          "output_type": "stream",
          "name": "stdout",
          "text": [
            "1/1 [==============================] - 0s 104ms/step\n",
            "[[0.9873904]\n",
            " [0.9821783]]\n"
          ]
        }
      ],
      "source": [
        "\n",
        "# Make predictions on the new text data\n",
        "predictions = model.predict(tdata)\n",
        "\n",
        "print(predictions)\n"
      ]
    },
    {
      "cell_type": "code",
      "execution_count": 12,
      "metadata": {
        "colab": {
          "base_uri": "https://localhost:8080/"
        },
        "id": "7b9V5AiqoDX_",
        "outputId": "6783e2d1-17c7-4b35-cb20-f20f03674bdd"
      },
      "outputs": [
        {
          "output_type": "stream",
          "name": "stdout",
          "text": [
            "This movie is really great!  ->  Positive\n",
            "This movie is really bad!  ->  Positive\n"
          ]
        }
      ],
      "source": [
        "# Set the threshold value and classify the input text\n",
        "\n",
        "threshold = 0.87\n",
        "\n",
        "for i in range(len(test_data)):\n",
        "    sentiment = 'Positive' if predictions[i] > threshold else 'Negative'\n",
        "    print(test_data[i],' -> ',sentiment)"
      ]
    },
    {
      "cell_type": "code",
      "source": [],
      "metadata": {
        "id": "dmeerv4szyF-"
      },
      "execution_count": null,
      "outputs": []
    },
    {
      "cell_type": "code",
      "execution_count": 11,
      "metadata": {
        "id": "ATii6dw0oDYA"
      },
      "outputs": [],
      "source": []
    },
    {
      "cell_type": "code",
      "execution_count": 11,
      "metadata": {
        "id": "VkACsfDooDYA"
      },
      "outputs": [],
      "source": []
    },
    {
      "cell_type": "code",
      "execution_count": 11,
      "metadata": {
        "id": "vpN7ardKoDYA"
      },
      "outputs": [],
      "source": []
    }
  ],
  "metadata": {
    "kernelspec": {
      "display_name": "Python 3",
      "language": "python",
      "name": "python3"
    },
    "language_info": {
      "codemirror_mode": {
        "name": "ipython",
        "version": 3
      },
      "file_extension": ".py",
      "mimetype": "text/x-python",
      "name": "python",
      "nbconvert_exporter": "python",
      "pygments_lexer": "ipython3",
      "version": "3.8.10"
    },
    "colab": {
      "provenance": [],
      "include_colab_link": true
    }
  },
  "nbformat": 4,
  "nbformat_minor": 0
}