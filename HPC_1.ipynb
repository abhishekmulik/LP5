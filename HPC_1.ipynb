{
  "nbformat": 4,
  "nbformat_minor": 0,
  "metadata": {
    "colab": {
      "provenance": [],
      "authorship_tag": "ABX9TyPP9Zea9ty9/hfy5VkKTjOo",
      "include_colab_link": true
    },
    "kernelspec": {
      "name": "python3",
      "display_name": "Python 3"
    },
    "language_info": {
      "name": "python"
    }
  },
  "cells": [
    {
      "cell_type": "markdown",
      "metadata": {
        "id": "view-in-github",
        "colab_type": "text"
      },
      "source": [
        "<a href=\"https://colab.research.google.com/github/abhishekmulik/LP5/blob/main/HPC_1.ipynb\" target=\"_parent\"><img src=\"https://colab.research.google.com/assets/colab-badge.svg\" alt=\"Open In Colab\"/></a>"
      ]
    },
    {
      "cell_type": "code",
      "execution_count": 6,
      "metadata": {
        "colab": {
          "base_uri": "https://localhost:8080/"
        },
        "id": "CeEuUHyBBHO-",
        "outputId": "04b5307f-071f-4c54-b241-a8986021457c"
      },
      "outputs": [
        {
          "output_type": "stream",
          "name": "stdout",
          "text": [
            "Overwriting hpc-1.cpp\n"
          ]
        }
      ],
      "source": [
        "%%writefile hpc-1.cpp\n",
        "#include <bits/stdc++.h>\n",
        "#include <omp.h>\n",
        "using namespace std;\n",
        "#define N 1000\n",
        "\n",
        "vector<int> adj[N];\n",
        "bool visited[N];\n",
        "void bfs(int start)\n",
        "{\n",
        "\tqueue<int> q;\n",
        "\tq.push(start);\n",
        "\tvisited[start] = true;\n",
        "   \n",
        "    while (!q.empty()){\n",
        "\n",
        "      int u = q.front();\n",
        "      q.pop();\n",
        "      cout << u << \" \";\n",
        "\n",
        "     #pragma omp parallel for\n",
        "     for (int i = 0; i < adj[u].size(); i++){\n",
        "\n",
        "      int v = adj[u][i];\n",
        "      if (!visited[v]){\n",
        "\n",
        "         visited[v] = true;\n",
        "         q.push(v);\n",
        "     }\n",
        "    }\n",
        "  \n",
        "  }\n",
        "}\n",
        "\n",
        "\n",
        "void dfs(int u){\n",
        "\tvisited[u] = true;\n",
        "\tcout << u << \" \";\n",
        "\n",
        "    #pragma omp parallel for\n",
        "    for (int i = 0; i < adj[u].size(); i++){\n",
        "\n",
        "     int v = adj[u][i];\n",
        "     if (!visited[v]){\n",
        "\n",
        "     dfs(v);\n",
        "   }\n",
        "   }\n",
        "}\n",
        "\n",
        "int main() {\n",
        "\n",
        "    int n, m;\n",
        "    cout << \"Enter the number of vertices (n): \";\n",
        "    cin >> n;\n",
        "    cout << \"Enter the number of edges (m): \";\n",
        "    cin >> m;\n",
        "\n",
        "    for (int i = 0; i < m; i++) {\n",
        "        int x, y;\n",
        "        cout << \"Enter the edges (x y): \";\n",
        "        cin >> x >> y;\n",
        "        adj[x].push_back(y);\n",
        "        adj[y].push_back(x);\n",
        "    }\n",
        "\n",
        "    int start;\n",
        "    cout << \"Enter the starting vertex for traversal: \";\n",
        "    cin >> start;\n",
        "\n",
        "    cout << \"BFS: \";\n",
        "    memset(visited, false, sizeof(visited));\n",
        "    bfs(start);\n",
        "\n",
        "    cout << \"DFS: \";\n",
        "    memset(visited, false, sizeof(visited));\n",
        "    dfs(start);\n",
        "  \n",
        "\n",
        "    return 0;\n",
        "}\n",
        "\n"
      ]
    },
    {
      "cell_type": "code",
      "source": [
        "! g++ hpc-1.cpp -o output"
      ],
      "metadata": {
        "id": "li5ms2qZBoNK"
      },
      "execution_count": 7,
      "outputs": []
    },
    {
      "cell_type": "code",
      "source": [
        "! ./output"
      ],
      "metadata": {
        "colab": {
          "base_uri": "https://localhost:8080/"
        },
        "id": "03M2AWwdB7I2",
        "outputId": "18449fdd-b734-4ee9-a967-31598a6b6d02"
      },
      "execution_count": 8,
      "outputs": [
        {
          "output_type": "stream",
          "name": "stdout",
          "text": [
            "Enter the number of vertices (n): 5\n",
            "Enter the number of edges (m): 4\n",
            "Enter the edges (x y): 1 2\n",
            "Enter the edges (x y): 1 3\n",
            "Enter the edges (x y): 2 5\n",
            "Enter the edges (x y): 3 4\n",
            "Enter the starting vertex for traversal: 1\n",
            "BFS: 1 2 3 5 4 DFS: 1 2 5 3 4 "
          ]
        }
      ]
    },
    {
      "cell_type": "code",
      "source": [],
      "metadata": {
        "id": "SsTiDhZKCdYe"
      },
      "execution_count": null,
      "outputs": []
    }
  ]
}