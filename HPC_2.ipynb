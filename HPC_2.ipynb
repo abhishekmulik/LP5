{
  "nbformat": 4,
  "nbformat_minor": 0,
  "metadata": {
    "colab": {
      "provenance": []
    },
    "kernelspec": {
      "name": "python3",
      "display_name": "Python 3"
    },
    "language_info": {
      "name": "python"
    }
  },
  "cells": [
    {
      "cell_type": "code",
      "execution_count": null,
      "metadata": {
        "colab": {
          "base_uri": "https://localhost:8080/"
        },
        "id": "btw2gSz2S-0i",
        "outputId": "80b930b0-6923-4a3e-a2bd-30b97c6f3567"
      },
      "outputs": [
        {
          "output_type": "stream",
          "name": "stdout",
          "text": [
            "Overwriting hpc-2.cpp\n"
          ]
        }
      ],
      "source": [
        "%%writefile hpc-2.cpp\n",
        "#include<iostream>\n",
        "#include<stdlib.h>\n",
        "#include<omp.h>\n",
        "\n",
        "using namespace std;\n",
        "\n",
        "void bubble(int *,int);\n",
        "void swap(int &,int &);\n",
        "\n",
        "void bubble(int *a, int n){\n",
        "  for(int i=0;i<n;i++){\n",
        "    int first = i%2;\n",
        "\n",
        "    #pragma omp parallel for shared(a,first)\n",
        "    for(int j=first; j<n-1;j+=2){\n",
        "      if(a[j]>a[j+1]){\n",
        "        swap(a[j],a[j+1]);\n",
        "      }\n",
        "    }\n",
        "  }\n",
        "}\n",
        "\n",
        "void swap(int &a, int &b){\n",
        "  int temp;\n",
        "  temp=a;\n",
        "  a=b;\n",
        "  b=temp;\n",
        "}\n",
        "\n",
        "\n",
        "\n",
        "\n",
        "\n",
        "int main(){\n",
        "  int *a,n;\n",
        "  cout<<\"\\n Enter no of elements=>\";\n",
        "  cin>>n;\n",
        "  a=new int[n];\n",
        "  cout<<\"\\n enter elements=>\";\n",
        "  for(int i=0;i<n;i++){\n",
        "    cin>>a[i];\n",
        "  }\n",
        "  bubble(a,n);\n",
        "  cout<<\"elements after sorting using bubble sort\"<<endl;\n",
        "  for(int i=0;i<n;i++){\n",
        "    cout<<a[i]<<\" \";\n",
        "  }\n",
        "  \n",
        "  return 0;\n",
        "}"
      ]
    },
    {
      "cell_type": "code",
      "source": [
        "! g++ hpc-2.cpp -o output"
      ],
      "metadata": {
        "id": "NvSdO1v2UJ2Z"
      },
      "execution_count": null,
      "outputs": []
    },
    {
      "cell_type": "code",
      "source": [
        "!./output"
      ],
      "metadata": {
        "colab": {
          "base_uri": "https://localhost:8080/"
        },
        "id": "EO5ohMsiUSGx",
        "outputId": "e94e4b1e-626a-438f-9ea3-f887681d6f2c"
      },
      "execution_count": null,
      "outputs": [
        {
          "output_type": "stream",
          "name": "stdout",
          "text": [
            "\n",
            " Enter no of elements=>5\n",
            "\n",
            " enter elements=>1 4 3 2 5\n",
            "elements after sorting using bubble sort\n",
            "1 2 3 4 5 "
          ]
        }
      ]
    },
    {
      "cell_type": "code",
      "source": [
        "%%writefile hpc-2.cpp\n",
        "#include<iostream>\n",
        "#include<stdlib.h>\n",
        "#include<omp.h>\n",
        "using namespace std;\n",
        "void mergesort(int a[],int i,int j);\n",
        "void merge(int a[],int i1,int j1,int i2,int j2);\n",
        "void mergesort(int a[],int i,int j)\n",
        "{\n",
        " int mid;\n",
        " if(i<j)\n",
        " {\n",
        " mid=(i+j)/2;\n",
        "\n",
        " #pragma omp parallel sections\n",
        " {\n",
        " #pragma omp section\n",
        " {\n",
        " mergesort(a,i,mid);\n",
        " }\n",
        " #pragma omp section\n",
        " {\n",
        " mergesort(a,mid+1,j);\n",
        " }\n",
        " }\n",
        " merge(a,i,mid,mid+1,j);\n",
        " }\n",
        "}\n",
        "\n",
        "void merge(int a[],int i1,int j1,int i2,int j2)\n",
        "{\n",
        " int temp[1000];\n",
        " int i,j,k;\n",
        " i=i1;\n",
        " j=i2;\n",
        " k=0;\n",
        "\n",
        " while(i<=j1 && j<=j2)\n",
        " {\n",
        " if(a[i]<a[j])\n",
        " {\n",
        " temp[k++]=a[i++];\n",
        " }\n",
        " else\n",
        " {\n",
        " temp[k++]=a[j++];\n",
        " }\n",
        " }\n",
        "\n",
        " while(i<=j1)\n",
        " {\n",
        " temp[k++]=a[i++];\n",
        " }\n",
        "\n",
        " while(j<=j2)\n",
        " {\n",
        " temp[k++]=a[j++];\n",
        " }\n",
        "\n",
        " for(i=i1,j=0;i<=j2;i++,j++)\n",
        " {\n",
        " a[i]=temp[j];\n",
        " }\n",
        "}\n",
        "int main()\n",
        "{\n",
        " int *a,n,i;\n",
        " cout<<\"\\n enter total no of elements=>\";\n",
        " cin>>n;\n",
        " a= new int[n];\n",
        " cout<<\"\\n enter elements=>\";\n",
        " for(i=0;i<n;i++)\n",
        " {\n",
        " cin>>a[i];\n",
        " }\n",
        " mergesort(a,0,n-1);\n",
        " cout<<\"\\n sorted array is=>\";\n",
        " for(i=0;i<n;i++)\n",
        " {\n",
        " cout<<\"\\n\"<<a[i];\n",
        " }\n",
        "\n",
        " return 0;\n",
        "} \n"
      ],
      "metadata": {
        "id": "IvjJcw4kUXWt",
        "colab": {
          "base_uri": "https://localhost:8080/"
        },
        "outputId": "81a18e88-dc02-4dbb-d0e7-f09fd859da4c"
      },
      "execution_count": 29,
      "outputs": [
        {
          "output_type": "stream",
          "name": "stdout",
          "text": [
            "Overwriting hpc-2.cpp\n"
          ]
        }
      ]
    },
    {
      "cell_type": "code",
      "source": [
        "!g++ hpc-2.cpp -o output"
      ],
      "metadata": {
        "id": "uHayukQd8Cxx"
      },
      "execution_count": 30,
      "outputs": []
    },
    {
      "cell_type": "code",
      "source": [
        "!./output"
      ],
      "metadata": {
        "colab": {
          "base_uri": "https://localhost:8080/"
        },
        "id": "StBwpIXr8HhQ",
        "outputId": "71147ac5-be91-4a48-8482-693bdb5ab73e"
      },
      "execution_count": 31,
      "outputs": [
        {
          "output_type": "stream",
          "name": "stdout",
          "text": [
            "\n",
            " enter total no of elements=>3\n",
            "\n",
            " enter elements=>1 3 2\n",
            "\n",
            " sorted array is=>\n",
            "1\n",
            "2\n",
            "3"
          ]
        }
      ]
    },
    {
      "cell_type": "code",
      "source": [],
      "metadata": {
        "id": "IdFO4JSp8Qax"
      },
      "execution_count": null,
      "outputs": []
    }
  ]
}