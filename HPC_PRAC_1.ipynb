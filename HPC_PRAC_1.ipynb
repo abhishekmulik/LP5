{
  "cells": [
    {
      "cell_type": "markdown",
      "metadata": {
        "id": "view-in-github",
        "colab_type": "text"
      },
      "source": [
        "<a href=\"https://colab.research.google.com/github/abhishekmulik/LP5/blob/main/HPC_PRAC_1.ipynb\" target=\"_parent\"><img src=\"https://colab.research.google.com/assets/colab-badge.svg\" alt=\"Open In Colab\"/></a>"
      ]
    },
    {
      "cell_type": "code",
      "execution_count": null,
      "metadata": {
        "colab": {
          "base_uri": "https://localhost:8080/"
        },
        "id": "FePAwhAohw7c",
        "outputId": "ab1e3659-04b7-4f7b-cc79-6010f7692518"
      },
      "outputs": [
        {
          "output_type": "stream",
          "name": "stdout",
          "text": [
            "Writing BFS_Parallel.cpp\n"
          ]
        }
      ],
      "source": [
        "%%writefile BFS_Parallel.cpp\n",
        "#include<iostream>\n",
        "#include<stdlib.h>\n",
        "#include<queue>\n",
        "using namespace std;\n",
        "\n",
        "\n",
        "class node\n",
        "{\n",
        "   public:\n",
        "    node *left, *right;\n",
        "    int data;\n",
        "};    \n",
        "\n",
        "class Breadthfs\n",
        "{\n",
        " \n",
        " public:\n",
        " \tnode *insert(node *, int);\n",
        " \tvoid bfs(node *);\n",
        "};\n",
        "\n",
        "\n",
        "node *insert(node *root, int data)\n",
        "// inserts a node in tree\n",
        "{\n",
        "    if(!root)\n",
        "    {\n",
        "   \t \n",
        "   \t root=new node;\n",
        "   \t root->left=NULL;\n",
        "   \t root->right=NULL;\n",
        "   \t root->data=data;\n",
        "   \t return root;\n",
        "    }\n",
        "\n",
        "    queue<node *> q;\n",
        "    q.push(root);\n",
        "    \n",
        "    while(!q.empty())\n",
        "    {\n",
        "   \t node *temp=q.front();\n",
        "   \t q.pop();\n",
        "    \n",
        "   \t if(temp->left==NULL)\n",
        "   \t {\n",
        "   \t\t \n",
        "   \t\t temp->left=new node;\n",
        "   \t\t temp->left->left=NULL;\n",
        "   \t\t temp->left->right=NULL;\n",
        "   \t\t temp->left->data=data;    \n",
        "   \t\t return root;\n",
        "   \t }\n",
        "   \t else\n",
        "   \t {\n",
        "   \t q.push(temp->left);\n",
        "   \t }\n",
        "\n",
        "   \t if(temp->right==NULL)\n",
        "   \t { \n",
        "   \t\t temp->right=new node;\n",
        "   \t\t temp->right->left=NULL;\n",
        "   \t\t temp->right->right=NULL;\n",
        "   \t\t temp->right->data=data;    \n",
        "   \t\t return root;\n",
        "   \t }\n",
        "   \t else\n",
        "   \t {\n",
        "   \t q.push(temp->right);\n",
        "   \t }\n",
        "    }\n",
        "}\n",
        "\n",
        "\n",
        "void bfs(node *head)\n",
        "{\n",
        "   \t queue<node*> q;\n",
        "   \t q.push(head);\n",
        "   \t \n",
        "   \t int qSize;\n",
        "   \t \n",
        "   \t while (!q.empty())\n",
        "   \t {\n",
        "   \t\t qSize = q.size();\n",
        "   \t\t #pragma omp parallel for\n",
        "            \t//creates parallel threads\n",
        "   \t\t for (int i = 0; i < qSize; i++)\n",
        "   \t\t {\n",
        "   \t\t\t node* currNode;\n",
        "   \t\t\t #pragma omp critical\n",
        "   \t\t\t {\n",
        "   \t\t\t   currNode = q.front();\n",
        "   \t\t\t   q.pop();\n",
        "   \t\t\t   cout<<\"\\t\"<<currNode->data;\n",
        "   \t\t\t   \n",
        "   \t\t\t }// prints parent node\n",
        "   \t\t\t #pragma omp critical\n",
        "   \t\t\t {\n",
        "   \t\t\t if(currNode->left)// push parent's left node in queue\n",
        "   \t\t\t\t q.push(currNode->left);\n",
        "   \t\t\t if(currNode->right)\n",
        "   \t\t\t\t q.push(currNode->right);\n",
        "   \t\t\t }// push parent's right node in queue   \t \n",
        "\n",
        "   \t\t }\n",
        "   \t }\n",
        "\n",
        "}\n",
        "\n",
        "int main(){\n",
        "    node *root=NULL;\n",
        "    int data;\n",
        "    char ans;\n",
        "    do\n",
        "    {\n",
        "   \t cout<<\"\\n enter data=>\";\n",
        "   \t cin>>data;\n",
        "   \t \n",
        "   \t root=insert(root,data);\n",
        "    \n",
        "   \t cout<<\"do you want insert one more node?\";\n",
        "   \t cin>>ans;\n",
        "    \n",
        "    }while(ans=='y'||ans=='Y');\n",
        "    \n",
        "    bfs(root);\n",
        "    \n",
        "    return 0;\n",
        "}"
      ]
    },
    {
      "cell_type": "code",
      "execution_count": null,
      "metadata": {
        "colab": {
          "base_uri": "https://localhost:8080/"
        },
        "id": "7B3xauu7h8tT",
        "outputId": "047eda6d-e63e-47e7-d232-8d761d958159"
      },
      "outputs": [
        {
          "output_type": "stream",
          "name": "stdout",
          "text": [
            "\u001b[01m\u001b[KBFS_Parallel.cpp:\u001b[m\u001b[K In function ‘\u001b[01m\u001b[Knode* insert(node*, int)\u001b[m\u001b[K’:\n",
            "\u001b[01m\u001b[KBFS_Parallel.cpp:71:1:\u001b[m\u001b[K \u001b[01;35m\u001b[Kwarning: \u001b[m\u001b[Kcontrol reaches end of non-void function [\u001b[01;35m\u001b[K-Wreturn-type\u001b[m\u001b[K]\n",
            "   71 | \u001b[01;35m\u001b[K}\u001b[m\u001b[K\n",
            "      | \u001b[01;35m\u001b[K^\u001b[m\u001b[K\n"
          ]
        }
      ],
      "source": [
        "! g++ -fopenmp BFS_Parallel.cpp -o bfsparallel"
      ]
    },
    {
      "cell_type": "code",
      "execution_count": null,
      "metadata": {
        "id": "yTG6k7pekdTY"
      },
      "outputs": [],
      "source": []
    },
    {
      "cell_type": "code",
      "execution_count": null,
      "metadata": {
        "colab": {
          "base_uri": "https://localhost:8080/"
        },
        "id": "bnppqcgYiHrz",
        "outputId": "dacecbd2-8027-4047-a991-5040f696491c"
      },
      "outputs": [
        {
          "output_type": "stream",
          "name": "stdout",
          "text": [
            "\n",
            " enter data=>6\n",
            "do you want insert one more node?y\n",
            "\n",
            " enter data=>2\n",
            "do you want insert one more node?y\n",
            "\n",
            " enter data=>8\n",
            "do you want insert one more node?y\n",
            "\n",
            " enter data=>1\n",
            "do you want insert one more node?y\n",
            "\n",
            " enter data=>3\n",
            "do you want insert one more node?y\n",
            "\n",
            " enter data=>7\n",
            "do you want insert one more node?y\n",
            "\n",
            " enter data=>9\n",
            "do you want insert one more node?n\n",
            "\t6\t2\t8\t1\t3\t7\t9"
          ]
        }
      ],
      "source": [
        "!./bfsparallel"
      ]
    },
    {
      "cell_type": "code",
      "execution_count": null,
      "metadata": {
        "id": "UyPq66qpkTha",
        "colab": {
          "base_uri": "https://localhost:8080/"
        },
        "outputId": "8551e747-6cce-454b-f6f3-6ee350e35196"
      },
      "outputs": [
        {
          "output_type": "stream",
          "name": "stdout",
          "text": [
            "Writing DFS_Parallel.cpp\n"
          ]
        }
      ],
      "source": [
        "%%writefile DFS_Parallel.cpp\n",
        "#include <iostream>\n",
        "#include <vector>\n",
        "#include <stack>\n",
        "#include <omp.h>\n",
        "\n",
        "using namespace std;\n",
        "\n",
        "const int MAX = 100000;\n",
        "vector<int> graph[MAX];\n",
        "bool visited[MAX];\n",
        "\n",
        "void dfs(int node) {\n",
        "\tstack<int> s;\n",
        "\ts.push(node);\n",
        "\n",
        "\twhile (!s.empty()) {\n",
        "    \tint curr_node = s.top();\n",
        "    \ts.pop();\n",
        "\n",
        "    \tif (!visited[curr_node]) {\n",
        "        \tvisited[curr_node] = true;\n",
        "        \t\n",
        "        \tif (visited[curr_node]) {\n",
        "        \tcout << curr_node << \" \";\n",
        "    \t}\n",
        "\n",
        "        \t#pragma omp parallel for\n",
        "        \tfor (int i = 0; i < graph[curr_node].size(); i++) {\n",
        "            \tint adj_node = graph[curr_node][i];\n",
        "            \tif (!visited[adj_node]) {\n",
        "                \ts.push(adj_node);\n",
        "            \t}\n",
        "        \t}\n",
        "    \t}\n",
        "\t}\n",
        "}\n",
        "\n",
        "int main() {\n",
        "\tint n, m, start_node;\n",
        "\tcout << \"Enter No of Node,Edges,and start node:\" ;\n",
        "\tcin >> n >> m >> start_node;\n",
        "         //n: node,m:edges\n",
        "         \n",
        "cout << \"Enter Pair of edges:\" ;\n",
        "\tfor (int i = 0; i < m; i++) {\n",
        "    \tint u, v;\n",
        "    \t\t\n",
        "    \tcin >> u >> v;\n",
        "//u and v: Pair of edges\n",
        "    \tgraph[u].push_back(v);\n",
        "    \tgraph[v].push_back(u);\n",
        "\t}\n",
        "\n",
        "\t#pragma omp parallel for\n",
        "\tfor (int i = 0; i < n; i++) {\n",
        "    \tvisited[i] = false;\n",
        "\t}\n",
        "\n",
        "\tdfs(start_node);\n",
        "\n",
        "/*\tfor (int i = 0; i < n; i++) {\n",
        "    \tif (visited[i]) {\n",
        "        \tcout << i << \" \";\n",
        "    \t}\n",
        "\t}*/\n",
        "\n",
        "\treturn 0;\n",
        "}\n",
        "\n"
      ]
    },
    {
      "cell_type": "code",
      "execution_count": null,
      "metadata": {
        "id": "D5R1QnankeJp"
      },
      "outputs": [],
      "source": [
        "! g++ -fopenmp DFS_Parallel.cpp -o dfsparallel"
      ]
    },
    {
      "cell_type": "code",
      "execution_count": null,
      "metadata": {
        "id": "ecpRuY8QkjUS",
        "colab": {
          "base_uri": "https://localhost:8080/"
        },
        "outputId": "64fc86d0-e9bd-4724-c605-74706147fc5e"
      },
      "outputs": [
        {
          "output_type": "stream",
          "name": "stdout",
          "text": [
            "Enter No of Node,Edges,and start node:6 7 0\n",
            "Enter Pair of edges:0 1\n",
            "0 2\n",
            "1 2\n",
            "1 3\n",
            "0 2\n"
          ]
        }
      ],
      "source": [
        "!./dfsparallel"
      ]
    }
  ],
  "metadata": {
    "colab": {
      "provenance": [],
      "include_colab_link": true
    },
    "kernelspec": {
      "display_name": "Python 3",
      "name": "python3"
    },
    "language_info": {
      "name": "python"
    }
  },
  "nbformat": 4,
  "nbformat_minor": 0
}