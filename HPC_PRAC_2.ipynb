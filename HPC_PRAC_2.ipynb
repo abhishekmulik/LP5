{
  "nbformat": 4,
  "nbformat_minor": 0,
  "metadata": {
    "colab": {
      "provenance": [],
      "include_colab_link": true
    },
    "kernelspec": {
      "name": "python3",
      "display_name": "Python 3"
    },
    "language_info": {
      "name": "python"
    }
  },
  "cells": [
    {
      "cell_type": "markdown",
      "metadata": {
        "id": "view-in-github",
        "colab_type": "text"
      },
      "source": [
        "<a href=\"https://colab.research.google.com/github/abhishekmulik/LP5/blob/main/HPC_PRAC_2.ipynb\" target=\"_parent\"><img src=\"https://colab.research.google.com/assets/colab-badge.svg\" alt=\"Open In Colab\"/></a>"
      ]
    },
    {
      "cell_type": "code",
      "execution_count": null,
      "metadata": {
        "colab": {
          "base_uri": "https://localhost:8080/"
        },
        "id": "P-kRWCUDnpxc",
        "outputId": "16825334-f856-4af0-d393-d81cb60c1da1"
      },
      "outputs": [
        {
          "output_type": "stream",
          "name": "stdout",
          "text": [
            "Overwriting HPC_2A_Parallel_Bubble_Sort.cpp\n"
          ]
        }
      ],
      "source": [
        "%%writefile HPC_2A_Parallel_Bubble_Sort.cpp\n",
        "#include <iostream>\n",
        "#include <vector>\n",
        "#include <omp.h>\n",
        "\n",
        "using namespace std;\n",
        "\n",
        "void bubble_sort_odd_even(vector<int>& arr) {\n",
        "\tbool isSorted = false;\n",
        "\twhile(!isSorted) {\n",
        "\t\tisSorted = true;\n",
        "\t\t\n",
        "\t\t#pragma omp parallel for\n",
        "\t\tfor(int i = 0; i < arr.size()-1; i+= 2){\n",
        "\t\t\tif(arr[i] > arr[i+1]){\n",
        "\t\t\t\tswap(arr[i],arr[i+1]);\n",
        "\t\t\t\tisSorted = false;\n",
        "\t\t\t}\n",
        "\t\t}\n",
        "\t\t#pragma omp parallel for\n",
        "\t\tfor(int i = 1; i < arr.size()-1; i += 2) {\n",
        "\t\t\tif(arr[i] > arr[i + 1]) {\n",
        "\t\t\t\tswap(arr[i],arr[i+1]);\n",
        "\t\t\t\tisSorted = false;\n",
        "\t\t\t}\n",
        "\t\t}\n",
        "\t}\n",
        "}\n",
        "\n",
        "void print(vector<int> const &arr)\n",
        "{\n",
        "    \n",
        "    for (int i = 0; i < arr.size(); i++) {\n",
        "        cout << arr.at(i) << ' ';\n",
        "    }\n",
        "    cout<<endl;\n",
        "}\n",
        "\n",
        "int main() {\n",
        "\tvector<int> arr = {5, 2, 9, 1, 7, 6, 8, 3, 4};\n",
        "\tdouble start, end;\n",
        "\tcout<<\"Original Input Before Sorting:\";\n",
        "\tprint(arr);\n",
        "// Measure performance of parallel bubble sort using odd-even transposition\n",
        "\tstart = omp_get_wtime();\n",
        "\tbubble_sort_odd_even(arr);\n",
        "\tend = omp_get_wtime();\n",
        "\tcout<<\"After Sorting:\";\n",
        "\tprint(arr);\n",
        "\tcout << \"Parallel bubble sort using odd-even transposition time: \"<<end-start << endl;\n",
        "\t\n",
        "}\n"
      ]
    },
    {
      "cell_type": "code",
      "source": [
        "! g++ -fopenmp HPC_2A_Parallel_Bubble_Sort.cpp -o bubblesort"
      ],
      "metadata": {
        "id": "BYXzgYlCoA-c"
      },
      "execution_count": null,
      "outputs": []
    },
    {
      "cell_type": "code",
      "source": [
        "!./bubblesort"
      ],
      "metadata": {
        "colab": {
          "base_uri": "https://localhost:8080/"
        },
        "id": "gHd_0tiFoJgS",
        "outputId": "c85ae374-f5f6-4498-c05c-e893ff6368e8"
      },
      "execution_count": null,
      "outputs": [
        {
          "output_type": "stream",
          "name": "stdout",
          "text": [
            "Original Input Before Sorting:5 2 9 1 7 6 8 3 4 \n",
            "After Sorting:1 2 3 4 5 6 7 8 9 \n",
            "Parallel bubble sort using odd-even transposition time: 0.0143159\n"
          ]
        }
      ]
    },
    {
      "cell_type": "code",
      "source": [
        "%%writefile HPC_2A_Parallel_Bubble_Sort.cpp\n",
        "#include <iostream>\n",
        "#include <chrono>\n",
        "#include <omp.h>\n",
        "#include <stdio.h>\n",
        "#include <random>\n",
        "#include <string.h>\n",
        "#include <stdlib.h>\n",
        "\n",
        "using namespace std;\n",
        "using namespace std::chrono;\n",
        "\n",
        "int random_in_range( int minimum, int maximum )\n",
        "{\n",
        "  thread_local std::ranlux48 rng( \n",
        "    std::chrono::system_clock::now().time_since_epoch().count() );\n",
        "  return std::uniform_int_distribution <int> ( minimum, maximum )( rng );\n",
        "}\n",
        "\n",
        "void merge(int *c1, int *c2, int *p, int cl1, int cl2) {\n",
        "\tint i = 0, j = 0, k = 0;\n",
        "\twhile(i < cl1 && j < cl2) {\n",
        "\t\tif(c1[i] < c2[j]) {\n",
        "\t\t\tp[k] = c1[i];\n",
        "\t\t\ti++;\n",
        "\t\t\tk++;\n",
        "\t\t}\n",
        "\t\telse {\n",
        "\t\t\tp[k] = c2[j];\n",
        "\t\t\tj++;\n",
        "\t\t\tk++;\n",
        "\t\t}\n",
        "\t}\n",
        "\twhile(i < cl1) {\n",
        "\t\tp[k] = c1[i];\n",
        "\t\ti++;\n",
        "\t\tk++;\n",
        "\t}\n",
        "\twhile(j < cl2) {\n",
        "\t\tp[k] = c2[j];\n",
        "\t\tj++;\n",
        "\t\tk++;\n",
        "\t}\n",
        "}\n",
        "\n",
        "void mergeSortSerial(int *arr, int length) {\n",
        "\tif(length <= 1)\n",
        "\t\treturn;\n",
        "\n",
        "\tint mid = length / 2;\n",
        "\t\n",
        "\tint *left = new int[mid];\n",
        "\tint *right = new int[length-mid];\n",
        "\n",
        "\tfor(int i = 0 ; i < mid ; i++) {\n",
        "\t\tleft[i] = arr[i];\n",
        "\t}\n",
        "\tfor(int i = mid ; i < length ; i++) {\n",
        "\t\tright[i-mid] = arr[i];\n",
        "\t}\n",
        "\tmergeSortSerial(left, mid);\n",
        "\tmergeSortSerial(right, length-mid);\n",
        "\tmerge(left, right, arr, mid, length-mid);\n",
        "}\n",
        "\n",
        "void mergeSortParallel(int *arr, int length) {\n",
        "\tif(length <= 1)\n",
        "\t\treturn;\n",
        "\tint mid = length / 2;\n",
        "\tint *left, *right;\n",
        "\tleft = new int[mid];\n",
        "\tright = new int[length-mid];\n",
        "\n",
        "\t#pragma omp task firstprivate(left)\n",
        "\t{\n",
        "\t\t\n",
        "\t\tfor(int i = 0 ; i < mid ; i++) {\n",
        "\t\t\tleft[i] = arr[i];\n",
        "\t\t}\n",
        "\t\tmergeSortParallel(left, mid);\n",
        "\t}\n",
        "\t\n",
        "\t\n",
        "\t#pragma omp task firstprivate(right)\n",
        "\t{\n",
        "\t\t\n",
        "\t\tfor(int i = mid ; i < length ; i++) {\n",
        "\t\t\tright[i-mid] = arr[i];\n",
        "\t\t}\n",
        "\t\n",
        "\t\tmergeSortParallel(right, length-mid);\t\t\n",
        "\t}\n",
        "\n",
        "\n",
        "\t// #pragma omp parallel sections\n",
        "\t// {\n",
        "\t// \t#pragma omp section\n",
        "\t// \t{\n",
        "\t// \t\tleft = new int[mid];\n",
        "\t// \t\tfor(int i = 0 ; i < mid ; i++) {\n",
        "\t// \t\t\tleft[i] = arr[i];\n",
        "\t// \t\t}\n",
        "\t// \t\tmergeSortParallel(left, mid);\n",
        "\t// \t}\n",
        "\t// \t#pragma omp section\n",
        "\t// \t{\n",
        "\t// \t\tright = new int[length-mid];\n",
        "\t// \t\tfor(int i = mid ; i < length ; i++) {\n",
        "\t// \t\t\tright[i-mid] = arr[i];\n",
        "\t// \t\t}\n",
        "\t// \t\tmergeSortParallel(right, length-mid);\n",
        "\t// \t}\n",
        "\t// }\n",
        "\t#pragma omp taskwait\n",
        "\tmerge(left, right, arr, mid, length-mid);\n",
        "}\n",
        "\n",
        "void init_array(int *arr1, int *arr2, int n) {\n",
        "\tfor(int i = 0 ; i < n ; i++) {\n",
        "\t\tarr1[i] = arr2[i] = random_in_range(10,99);\n",
        "\t}\n",
        "}\n",
        "\n",
        "void print_array(int *arr, int n) {\n",
        "\tfor(int i = 0 ; i < n ; i++) {\n",
        "\t\tcout<<arr[i]<<\" \";\n",
        "\t}\n",
        "}\n",
        "\n",
        "int main() {\n",
        "\tint n = 50;\n",
        "\tint *a, *b;\n",
        "\ta = new int[n];\n",
        "\tb = new int[n];\n",
        "\n",
        "\tinit_array(a, b, n);\n",
        "\tcout<<\"Initial vector: \"<<endl;\n",
        "\tprint_array(a, n);\n",
        "\tcout<<endl;\n",
        "\tcout<<endl;\n",
        "\n",
        "\ttime_point<system_clock> starttime, endtime;\n",
        "\tstarttime = system_clock::now();\n",
        "\tmergeSortSerial(a, n);\n",
        "\tendtime = system_clock::now();\n",
        "\tduration<double> time = endtime - starttime;\n",
        "\tcout<<\"Time for serial: \"<<1000*time.count()<<\" milliseconds\"<<endl;\n",
        "\tcout<<\"Result after serial merge sort: \"<<endl;\n",
        "\tprint_array(a, n);\n",
        "\tcout<<endl;\n",
        "\tcout<<endl;\n",
        "\n",
        "\n",
        "\tstarttime = system_clock::now();\n",
        "\tmergeSortParallel(b, n);\n",
        "\tendtime = system_clock::now();\n",
        "\ttime = endtime - starttime;\n",
        "\tcout<<\"Time for parallel: \"<<1000*time.count()<<\" milliseconds\"<<endl;\n",
        "\tcout<<\"Result after parallel merge sort: \"<<endl;\n",
        "\tprint_array(b, n);\n",
        "\n",
        "\treturn 0;\t\n",
        "}\n"
      ],
      "metadata": {
        "colab": {
          "base_uri": "https://localhost:8080/"
        },
        "id": "TbPfnI_KovTZ",
        "outputId": "14401dad-d708-42c2-adf3-4becaba4f35c"
      },
      "execution_count": null,
      "outputs": [
        {
          "output_type": "stream",
          "name": "stdout",
          "text": [
            "Overwriting HPC_2A_Parallel_Bubble_Sort.cpp\n"
          ]
        }
      ]
    },
    {
      "cell_type": "code",
      "source": [
        "! g++ -fopenmp MergeSort_Algorithms.cpp -o Mergesort"
      ],
      "metadata": {
        "id": "ZY4fJghEo0xp"
      },
      "execution_count": null,
      "outputs": []
    },
    {
      "cell_type": "code",
      "source": [
        "!./Mergesort"
      ],
      "metadata": {
        "colab": {
          "base_uri": "https://localhost:8080/"
        },
        "id": "qqEqHfhto7Sa",
        "outputId": "db21839a-3eb4-4b60-df32-ed01494b20c6"
      },
      "execution_count": null,
      "outputs": [
        {
          "output_type": "stream",
          "name": "stdout",
          "text": [
            "Initial vector: \n",
            "47 43 39 24 69 79 39 63 84 84 69 12 94 75 77 17 34 16 91 52 36 60 84 58 33 90 98 67 29 78 91 58 71 76 95 32 13 38 34 39 53 61 57 96 68 76 74 49 21 86 \n",
            "\n",
            "Time for serial: 0.015704 milliseconds\n",
            "Result after serial merge sort: \n",
            "12 13 16 17 21 24 29 32 33 34 34 36 38 39 39 39 43 47 49 52 53 57 58 58 60 61 63 67 68 69 69 71 74 75 76 76 77 78 79 84 84 84 86 90 91 91 94 95 96 98 \n",
            "\n",
            "Time for parallel: 0.017185 milliseconds\n",
            "Result after parallel merge sort: \n",
            "12 13 16 17 21 24 29 32 33 34 34 36 38 39 39 39 43 47 49 52 53 57 58 58 60 61 63 67 68 69 69 71 74 75 76 76 77 78 79 84 84 84 86 90 91 91 94 95 96 98 "
          ]
        }
      ]
    }
  ]
}